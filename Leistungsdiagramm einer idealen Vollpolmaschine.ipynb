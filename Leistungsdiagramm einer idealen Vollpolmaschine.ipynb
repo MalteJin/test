{
 "cells": [
  {
   "cell_type": "markdown",
   "metadata": {},
   "source": [
    "# Table of Contents\n",
    "* [1. Einleitung](#1.-Einleitung)\n",
    "\t* [1.1 Thematischer Hintergrund](#1.1-Thematischer-Hintergrund)\n",
    "\t* [1.2 Inhalt](#1.2-Inhalt)\n",
    "\t* [1.3 Präsentationsform](#1.3-Präsentationsform)\n",
    "* [2. Loading packages](#2.-Loading-packages)\n",
    "* [3. Nennwerte der Synchronmaschine](#3.-Nennwerte-der-Synchronmaschine)\n",
    "\t* [3.1 Datenblattwerte](#3.1-Datenblattwerte)\n",
    "\t* [3.2 Abgeleitete Größen für den  Nennarbeitspunkt](#3.2-Abgeleitete-Größen-für-den--Nennarbeitspunkt)\n",
    "* [4. Leistungsdiagramm der idealen Vollpolmaschine](#4.-Leistungsdiagramm-der-idealen-Vollpolmaschine)\n",
    "\t* [4.1 Thermische Grenzen des Statorstrom bei Nennstrom](#4.1-Thermische-Grenzen-des-Statorstrom-bei-Nennstrom)\n",
    "\t* [4.2 Thermische Grenzen des Rotorstroms bei Nennpolradspannung](#4.2-Thermische-Grenzen-des-Rotorstroms-bei-Nennpolradspannung)\n",
    "\t* [4.3 Stabilitätsgrenze](#4.3-Stabilitätsgrenze)\n",
    "\t* [4.4 Zeichnen des Leistungsdiagramms](#4.4-Zeichnen-des-Leistungsdiagramms)\n",
    "\t* [4.5 Koordinaten der Arbeitspunkte (AP)](#4.5-Koordinaten-der-Arbeitspunkte-%28AP%29)\n",
    "* [5. Zusammenfassung](#5.-Zusammenfassung)\n"
   ]
  },
  {
   "cell_type": "markdown",
   "metadata": {},
   "source": [
    "# 1. Einleitung"
   ]
  },
  {
   "cell_type": "markdown",
   "metadata": {},
   "source": [
    "## 1.1 Thematischer Hintergrund"
   ]
  },
  {
   "cell_type": "markdown",
   "metadata": {},
   "source": [
    "In Deutschland müssen dezentrale Erzeuger die Konformität mit den Netzanschlussbedingungen mit einem Zertifikat nachweisen. Zur Erlangung eines Zertifikats wird ein in den FGW Richtlinien TR3, T4 und TR8 beschriebener Prozess durchlaufen. Diese FGW Richtlinien werden seit 1992 in Arbeitskreisen durch Messinstitute, Beratungsfirmen, Zertifizierer sowie Hersteller von Windenergie- und PV-Anlagen sowie seit kurzem auch durch Hersteller von Blockheizkraftwerken (BHKW) entwickelt.\n",
    "\n",
    "Aktuell werden die FGW Richtlinien vermehrt auf BHKWs angewendet. Im Unterschied zur Wechselrichterbasierten Technik von modernen Windenergie- und PV-Anlagen verwenden BHKWs eine andere Generatortechnologie. Für Stromerzeuger mit Diesel- und Gasmotoren wird im Allgemeinen ab einer Leistung von etwa 30 kW wird  ein geregelter, bürstenloser und direkt netzgekoppelter Synchrongenerator verwendet <a name=\"ref-1\"/>[(Rosa, 2013)](#cite-Rosa2013), S.32.  \n",
    "\n",
    "Das Verhalten von Synchrongeneratoren ist in der Literatur umfassend theoretisch beschrieben. \n",
    "Mithilfe von Literaturwissen können oft  bereits mit wenigen Datenblattwerten zertifizierungsrelevante, belastbare Aussagen bezüglich des Betriebsverhaltens getroffen werden. Diese Eigenschaft der Generatortechnologie von BHKWs soll im Folgenden benützt werden."
   ]
  },
  {
   "cell_type": "markdown",
   "metadata": {},
   "source": [
    "## 1.2 Inhalt"
   ]
  },
  {
   "cell_type": "markdown",
   "metadata": {},
   "source": [
    "In dieser Arbeit wird auf Basis von Berechnungsverfahren aus der Fachliteratur das Leistungsdiagramm einer idealen Synchronmaschine in Vollpolausführung bestimmt."
   ]
  },
  {
   "cell_type": "markdown",
   "metadata": {},
   "source": [
    "## 1.3 Präsentationsform"
   ]
  },
  {
   "cell_type": "markdown",
   "metadata": {},
   "source": [
    "Die gewählte Präsentationsform ist ein interaktives Jupyter Notebook (ehemals IPython Notebooks) https://jupyter.org/. Als besondere Präsentationsmöglichkeit bieten Jupyter Notebooks die Möglichkeit beschreibenden Text und Programmcode zu kombinieren sowie diese Elemente in einem Browser darzustellen bzw. auszuführen. Dieses Notebook verwendet Python-Code für die Berechnungen, sämtliche Berechnungsverfahren sind als Quellcode einsehbar. Python ist eine frei verfügbare Programmiersprache und bietet mit zahlreichen Packages vergleichbare Funktionalitäten wie z.B. Matlab."
   ]
  },
  {
   "cell_type": "markdown",
   "metadata": {},
   "source": [
    "# 2. Loading packages"
   ]
  },
  {
   "cell_type": "markdown",
   "metadata": {},
   "source": [
    "In the code cell below packages used within this notebook are loaded. "
   ]
  },
  {
   "cell_type": "code",
   "execution_count": 1,
   "metadata": {
    "collapsed": false
   },
   "outputs": [
    {
     "name": "stdout",
     "output_type": "stream",
     "text": [
      "Init done: Fri Dec  4 13:29:08 2015\n"
     ]
    }
   ],
   "source": [
    "import numpy as np\n",
    "import sympy as sp\n",
    "import matplotlib.pyplot as plt\n",
    "from IPython.display import display,HTML,Latex # Used to display widgets in the notebook\n",
    "sp.init_printing(use_unicode=True,use_latex=True)\n",
    "import ipywidgets as widgets #If not install run <pip install ipywidgets> in DOS command prompt (Anaconda distribution)\n",
    "import time\n",
    "print('Init done:', time.ctime() )\n",
    "%matplotlib inline "
   ]
  },
  {
   "cell_type": "markdown",
   "metadata": {},
   "source": [
    "# 3. Nennwerte der Synchronmaschine"
   ]
  },
  {
   "cell_type": "markdown",
   "metadata": {},
   "source": [
    "## 3.1 Datenblattwerte"
   ]
  },
  {
   "cell_type": "markdown",
   "metadata": {},
   "source": [
    "Die Datenblattwerte werden entsprechend des Rechenbeispiels 6.1. (S.259) aus <a name=\"ref-2\"/>[(Crastan)](#cite-Crastan) exemplarisch angenommen."
   ]
  },
  {
   "cell_type": "code",
   "execution_count": 2,
   "metadata": {
    "collapsed": false,
    "format": "tab",
    "scrolled": true
   },
   "outputs": [],
   "source": [
    "def build_widget_col(name,symbolUnit,value):\n",
    "    w0=widgets.Text(description=\"\",value=name ,color=\"black\",disabled=True)\n",
    "    w1=widgets.FloatText(value=value,description=symbolUnit,disabled=False)\n",
    "    col=widgets.HBox([w0,w1])\n",
    "    return col,value\n",
    "\n",
    "col0,Sn=build_widget_col('Nennleistung:','$S_n$ [MVA]',10)\n",
    "col1,Un=build_widget_col('Nennspannung:','$U_n=U_r$ [kV]',6)\n",
    "col2,w=build_widget_col('Nennfrequenz (elektrisch):','$\\omega_n$ [Hz]',50)\n",
    "col3,Nn=build_widget_col('Nenndrehzahl:','$N_n$[RPM]',3000)\n",
    "col4,If0=build_widget_col('Leerlauferregerstrom:','$I_{f0}$ [A]',100)\n",
    "col5,Rf=build_widget_col('Rotorwiderstand:','$R_f$ [$\\mathrm{\\Omega}$]',0.3)\n",
    "col6,xd=build_widget_col('Synchrone Längsreaktanz::','$x_d$ [pu]',1.8 )\n",
    "col7,xq=build_widget_col('Synchrone Längsreaktanz:','$x_q$ [pu]',1.75)\n",
    "col8,r=build_widget_col('Statorwiderstand:','$r$ [pu]',0.002)\n",
    "col9,cosPhiN=build_widget_col('Nennleistungsfaktor:','$cos\\\\varphi_n$ [deg]',-0.85)                                                                                                \n",
    "widgets.VBox([col0,col1,col2,col3,col4,col5,col6,col7,col8,col9])\n"
   ]
  },
  {
   "cell_type": "markdown",
   "metadata": {},
   "source": [
    "## 3.2 Abgeleitete Größen für den  Nennarbeitspunkt"
   ]
  },
  {
   "cell_type": "markdown",
   "metadata": {},
   "source": [
    "Aus den Datenblattwerten lassen sich gemäß des Rechenschemas aus <a name=\"ref-3\"/>[(Crastan)](#cite-Crastan), S. 259 f., die Polradspannung und der Polradwinkel für den Nennarbeitspunkt sowie weitere Größen für den Nennarbeitspunkt  ermitteln. "
   ]
  },
  {
   "cell_type": "code",
   "execution_count": 3,
   "metadata": {
    "collapsed": false,
    "scrolled": false
   },
   "outputs": [
    {
     "data": {
      "text/latex": [
       "$ {\\mathrm{Errechnete \\enspace  Nennwerte}}$ :"
      ],
      "text/plain": [
       "<IPython.core.display.Latex object>"
      ]
     },
     "metadata": {},
     "output_type": "display_data"
    },
    {
     "data": {
      "text/latex": [
       "Nennstrom $I_n$: In= 0.9623 kA"
      ],
      "text/plain": [
       "<IPython.core.display.Latex object>"
      ]
     },
     "metadata": {},
     "output_type": "display_data"
    },
    {
     "data": {
      "text/latex": [
       "Bezugsimpedanz $Z_n$: Zn= 3.6 $\\Omega$"
      ],
      "text/plain": [
       "<IPython.core.display.Latex object>"
      ]
     },
     "metadata": {},
     "output_type": "display_data"
    },
    {
     "data": {
      "text/latex": [
       "Reaktanz $X_d$: Xd= 6.4800 $\\Omega$"
      ],
      "text/plain": [
       "<IPython.core.display.Latex object>"
      ]
     },
     "metadata": {},
     "output_type": "display_data"
    },
    {
     "data": {
      "text/latex": [
       "Reaktanz $X_q$: Xq= 6.3000 $\\Omega$"
      ],
      "text/plain": [
       "<IPython.core.display.Latex object>"
      ]
     },
     "metadata": {},
     "output_type": "display_data"
    },
    {
     "data": {
      "text/latex": [
       "$E_{pt}$: Ept= 8.4211 kV (2.43   pu) "
      ],
      "text/plain": [
       "<IPython.core.display.Latex object>"
      ]
     },
     "metadata": {},
     "output_type": "display_data"
    },
    {
     "data": {
      "text/latex": [
       "Polradwinkel $\\delta$: dlt= 37.70 $^{\\circ}$"
      ],
      "text/plain": [
       "<IPython.core.display.Latex object>"
      ]
     },
     "metadata": {},
     "output_type": "display_data"
    },
    {
     "data": {
      "text/latex": [
       "Polradspannung $E_p$: Ep= 8.5834 kV (2.48   pu)"
      ],
      "text/plain": [
       "<IPython.core.display.Latex object>"
      ]
     },
     "metadata": {},
     "output_type": "display_data"
    },
    {
     "data": {
      "text/latex": [
       "Amplitude der Polradspannung $\\hat{E}_p$: EpInst= 12.1387 kV (3.50   pu)"
      ],
      "text/plain": [
       "<IPython.core.display.Latex object>"
      ]
     },
     "metadata": {},
     "output_type": "display_data"
    },
    {
     "data": {
      "text/latex": [
       "d-Komponente der Statorspannung: $U_d$: Ud= 2.1182 kV (0.61   pu)"
      ],
      "text/plain": [
       "<IPython.core.display.Latex object>"
      ]
     },
     "metadata": {},
     "output_type": "display_data"
    },
    {
     "data": {
      "text/latex": [
       "q-Komponente der Statorspannung: $U_q$: Uq= 2.7411 kV (0.79   pu)"
      ],
      "text/plain": [
       "<IPython.core.display.Latex object>"
      ]
     },
     "metadata": {},
     "output_type": "display_data"
    },
    {
     "data": {
      "text/latex": [
       "d-Komponente der Statorströme: $I_d$: Id= 0.9012 kA (0.94   pu)"
      ],
      "text/plain": [
       "<IPython.core.display.Latex object>"
      ]
     },
     "metadata": {},
     "output_type": "display_data"
    },
    {
     "data": {
      "text/latex": [
       "q-Komponente der Statorströme: $I_q$: Iq= 0.3372 kA (0.35   pu)"
      ],
      "text/plain": [
       "<IPython.core.display.Latex object>"
      ]
     },
     "metadata": {},
     "output_type": "display_data"
    },
    {
     "data": {
      "text/latex": [
       "Kopplungsreaktanz: $X_{hfd}$: Xhfd= 48.9898 $\\Omega$"
      ],
      "text/plain": [
       "<IPython.core.display.Latex object>"
      ]
     },
     "metadata": {},
     "output_type": "display_data"
    },
    {
     "data": {
      "text/latex": [
       "Erregger-Gleichstrom: $I_f$: Ifd= 247.7804 A (DC)"
      ],
      "text/plain": [
       "<IPython.core.display.Latex object>"
      ]
     },
     "metadata": {},
     "output_type": "display_data"
    },
    {
     "data": {
      "text/latex": [
       "Erregger-Gleichspannung: $U_f$: Ifd= 74.3341 V (DC)"
      ],
      "text/plain": [
       "<IPython.core.display.Latex object>"
      ]
     },
     "metadata": {},
     "output_type": "display_data"
    },
    {
     "data": {
      "text/latex": [
       "Erregger-Verlustleistung: $P_f$: Pf= 18.4185 kW (DC)"
      ],
      "text/plain": [
       "<IPython.core.display.Latex object>"
      ]
     },
     "metadata": {},
     "output_type": "display_data"
    },
    {
     "data": {
      "text/latex": [
       "Innere elektrische Leistung: $P_{ei}$: Pei= 8.5030 MW (0.85   pu)"
      ],
      "text/plain": [
       "<IPython.core.display.Latex object>"
      ]
     },
     "metadata": {},
     "output_type": "display_data"
    },
    {
     "data": {
      "text/latex": [
       "Inneres (?) Drehmoment: $M$: M= 27.0658 knm "
      ],
      "text/plain": [
       "<IPython.core.display.Latex object>"
      ]
     },
     "metadata": {},
     "output_type": "display_data"
    }
   ],
   "source": [
    "If0 =If0/1e3 #Convert to kA\n",
    "UnLg =Un/np.sqrt(3) #Line to ground nominal voltage\n",
    "Zn=Un**2/Sn\n",
    "Xd= xd*Zn\n",
    "Xq= xq*Zn\n",
    "R =r*Zn\n",
    "In=Sn/(np.sqrt(3)*Un)\n",
    "phiN=np.arccos(abs(cosPhiN))\n",
    "InCpx = In*np.exp(1j*phiN*np.sign(cosPhiN))\n",
    "\n",
    "#Operating point values (set to nominal values)\n",
    "U0LgCpx=Un/np.sqrt(3) #Note division by sqrt(3)\n",
    "U0Lg=np.abs(U0LgCpx)\n",
    "Icpx =InCpx\n",
    "I=np.abs(Icpx)\n",
    "cosPhi=cosPhiN\n",
    "phi=np.arccos(abs(cosPhi))\n",
    "\n",
    "wm =Nn/60 *2*np.pi\n",
    "n  =w/wm #Relative or pu rotational speed (Crst 6.13)\n",
    "\n",
    "EptCpx=U0LgCpx+R*Icpx+1j*Xq*Icpx\n",
    "Ept=np.abs(EptCpx)\n",
    "dlt=np.angle(EptCpx)\n",
    "#in pu: eptCpx=U0cpx/(Un/np.sqrt(3)) + r*Icpx/In  +1j*xq*Icpx/In\n",
    "#Check (CRST P259):testPu=1 + 0.002*1*np.exp(-1j*31.8*np.pi/180) + 1.75*1*np.exp(1j*(-31.8+90)*np.pi/180)\n",
    "EpCpx=Ept+(Xd-Xq)*I*np.sin(phi+dlt)\n",
    "Ep=np.abs(EpCpx)\n",
    "Ud=U0Lg*np.sin(dlt)\n",
    "Uq=U0Lg*np.cos(dlt)\n",
    "Id=I*np.sin(dlt+phi)\n",
    "Iq=I*np.cos(dlt+phi)\n",
    "\n",
    "Xhfd= UnLg*np.sqrt(2)/If0\n",
    "IfDc =Ep*np.sqrt(2)/Xhfd\n",
    "UfDc =IfDc *Rf\n",
    "\n",
    "Scpx = 3*U0LgCpx*np.conj(Icpx)\n",
    "Ploss= 3* np.real(R/3*Icpx**2) #Stator losses  #Check R/3 ->Star connection?\n",
    "Pei=np.real(Scpx)+Ploss\n",
    "M=Pei/wm\n",
    "\n",
    "display(Latex('$ {\\mathrm{Errechnete \\enspace  Nennwerte}}$ :'))\n",
    "display(Latex('Nennstrom $I_n$: In= %.4g kA' %In))#http://grokbase.com/t/scipy.org/ipython-user/12bjv79v68/printing-a-string-and-latex-together-in-a-notebook\n",
    "display(Latex('Bezugsimpedanz $Z_n$: Zn= %g $\\Omega$' %Zn))\n",
    "display(Latex('Reaktanz $X_d$: Xd= %.4f $\\Omega$' %Xd))\n",
    "display(Latex('Reaktanz $X_q$: Xq= %.4f $\\Omega$' %Xq))\n",
    "\n",
    "display(Latex('$E_{pt}$: Ept= %.4f kV (%.2f   pu) '%(Ept,Ept/UnLg)))\n",
    "display(Latex('Polradwinkel $\\delta$: dlt= %.2f $^{\\circ}$' %(dlt*180/np.pi)))\n",
    "display(Latex('Polradspannung $E_p$: Ep= %.4f kV (%.2f   pu)'%(Ep,Ep/UnLg)))\n",
    "display(Latex('Amplitude der Polradspannung $\\hat{E}_p$: EpInst= %.4f kV (%.2f   pu)'%(Ep*np.sqrt(2),\n",
    "                                                                                   Ep*np.sqrt(2)/UnLg)))\n",
    "display(Latex('d-Komponente der Statorspannung: $U_d$: Ud= %.4f kV (%.2f   pu)'%(Ud,Ud/UnLg)))\n",
    "display(Latex('q-Komponente der Statorspannung: $U_q$: Uq= %.4f kV (%.2f   pu)'%(Uq,Uq/UnLg)))\n",
    "display(Latex('d-Komponente der Statorströme: $I_d$: Id= %.4f kA (%.2f   pu)'%(Id,Id/In)))\n",
    "display(Latex('q-Komponente der Statorströme: $I_q$: Iq= %.4f kA (%.2f   pu)'%(Iq,Iq/In)))\n",
    "\n",
    "display(Latex('Kopplungsreaktanz: $X_{hfd}$: Xhfd= %.4f $\\Omega$' %Xhfd))\n",
    "display(Latex('Erregger-Gleichstrom: $I_f$: Ifd= %.4f A (DC)'%(IfDc*1e3)))\n",
    "display(Latex('Erregger-Gleichspannung: $U_f$: Ifd= %.4f V (DC)'%(UfDc*1e3)))\n",
    "display(Latex('Erregger-Verlustleistung: $P_f$: Pf= %.4f kW (DC)'%(UfDc*IfDc*1e3))) #*3?\n",
    "\n",
    "display(Latex('Innere elektrische Leistung: $P_{ei}$: Pei= %.4f MW (%.2f   pu)'%(Pei,Pei/Sn)))\n",
    "display(Latex('Inneres (?) Drehmoment: $M$: M= %.4f knm '%(M*1e3)))\n"
   ]
  },
  {
   "cell_type": "markdown",
   "metadata": {},
   "source": [
    "# 4. Leistungsdiagramm der idealen Vollpolmaschine"
   ]
  },
  {
   "cell_type": "markdown",
   "metadata": {},
   "source": [
    "Das Leistungsdiagramm (\"PQ-Diagramm\") beschreibt die Grenzen des Blindleistungsstellbereichs im stationären Fall. Die Grenzen des Leistungsdiagramms werden durch unterschiedliche Grenzen gebildet. Die jeweilgen Grenzen werden im Folgenden kurz betrachtet und anschließend im Leistungsdiagramm dargestellt.  "
   ]
  },
  {
   "cell_type": "markdown",
   "metadata": {},
   "source": [
    "## 4.1 Thermische Grenzen des Statorstrom bei Nennstrom"
   ]
  },
  {
   "cell_type": "markdown",
   "metadata": {},
   "source": [
    "Die Thermische Grenzen des Statorstrom bei Nennstrom wird durch die Nennleistung definiert. Die Grenzen im Leistungsdiagramm entsprechen einem Kreis um den Ursprung mit Radius gleich der Nennleistung. In expliziter Form kann dieser Kreis als zwei Wurzelfunktionen beschrieben werden."
   ]
  },
  {
   "cell_type": "code",
   "execution_count": 4,
   "metadata": {
    "collapsed": false
   },
   "outputs": [],
   "source": [
    "QmaxStatAFun=lambda P:    np.sqrt(Sn**2-P**2)\n",
    "QmaxStatBFun=lambda P: -1*np.sqrt(Sn**2-P**2)"
   ]
  },
  {
   "cell_type": "markdown",
   "metadata": {},
   "source": [
    "## 4.2 Thermische Grenzen des Rotorstroms bei Nennpolradspannung"
   ]
  },
  {
   "cell_type": "markdown",
   "metadata": {},
   "source": [
    "Die Herleitung der Formeln für die thermische Grenzen des Rotorstroms bei Nennpolradspannung beginnt mit den Formeln aus  <a name=\"ref-4\"/>[(Crastan)](#cite-Crastan), S. 274. Für die Wirk- und Blindleistungsabgabe der idealen Schenkelpolmaschine gilt:"
   ]
  },
  {
   "cell_type": "code",
   "execution_count": 5,
   "metadata": {
    "collapsed": false
   },
   "outputs": [
    {
     "data": {
      "image/png": "[encoded data removed]",
      "text/latex": [
       "$$P = \\frac{E_{p} Q_{d}}{U_{n}} u \\sin{\\left (\\delta \\right )}$$"
      ],
      "text/plain": [
       "    E_p⋅Q_d⋅u⋅sin(\\delta)\n",
       "P = ─────────────────────\n",
       "             U_n         "
      ]
     },
     "metadata": {},
     "output_type": "display_data"
    },
    {
     "data": {
      "image/png": "[encoded data removed]",
      "text/latex": [
       "$$Q = Q_{d} u \\left(\\frac{E_{p}}{U_{n}} \\cos{\\left (\\delta \\right )} - u\\right)$$"
      ],
      "text/plain": [
       "          ⎛E_p⋅cos(\\delta)    ⎞\n",
       "Q = Q_d⋅u⋅⎜─────────────── - u⎟\n",
       "          ⎝      U_n          ⎠"
      ]
     },
     "metadata": {},
     "output_type": "display_data"
    }
   ],
   "source": [
    "Psym,Qsym,uSym,QdSym,EpSym,UnSym,dltSym=sp.symbols(r\"P,Q,u,Q_d,E_p,U_n,\\delta\")\n",
    "eq0= uSym*QdSym*EpSym/UnSym *sp.sin(dltSym) -Psym  #  P(dlt) term (Crst 6.94)\n",
    "eq1= uSym*QdSym*(EpSym/UnSym *sp.cos(dltSym) -uSym)-Qsym # Q(dlt) term (Crst 6.94)\n",
    "display(sp.Eq(Psym,eq0+Psym))\n",
    "display(sp.Eq(Qsym,eq1+Qsym))"
   ]
  },
  {
   "cell_type": "markdown",
   "metadata": {},
   "source": [
    "In diesen Ausdrücken ist $\\delta$ der Polradwinkel und $Q_d$ die sogenannte charakteristische Blindleistung mit $Q_d=\\frac{3U^2_r}{X_d}$. Die per unit Statorspannung $u$ wird gleich der Nennspannung, also zu 1 pu angenommen."
   ]
  },
  {
   "cell_type": "code",
   "execution_count": 6,
   "metadata": {
    "collapsed": true
   },
   "outputs": [],
   "source": [
    "Qd=3*Un**2/Xd #(CRST 6.90)\n",
    "u=1"
   ]
  },
  {
   "cell_type": "markdown",
   "metadata": {},
   "source": [
    "Die obigen Ausdrücke für $P(\\delta)$ und $Q(\\delta)$ können jeweils nach $\\delta$ aufgelöst werden und ineinander eingesetzt werden um $\\delta$ zu ersetzen. Das Ergebnis sind jeweils zwei Terme für $P(Q)$ und $Q(P)$."
   ]
  },
  {
   "cell_type": "code",
   "execution_count": 7,
   "metadata": {
    "collapsed": false
   },
   "outputs": [
    {
     "data": {
      "image/png": "[encoded data removed]",
      "text/latex": [
       "$$P{\\left (Q \\right )} = - \\frac{E_{p} Q_{d}}{U_{n}} u \\sqrt{1 - \\frac{U_{n}^{2} \\left(Q + Q_{d} u^{2}\\right)^{2}}{E_{p}^{2} Q_{d}^{2} u^{2}}}$$"
      ],
      "text/plain": [
       "                         ________________________ \n",
       "                        ╱                      2  \n",
       "                       ╱         2 ⎛         2⎞   \n",
       "                      ╱       U_n ⋅⎝Q + Q_d⋅u ⎠   \n",
       "       -E_p⋅Q_d⋅u⋅   ╱    1 - ──────────────────  \n",
       "                    ╱               2    2  2     \n",
       "                  ╲╱             E_p ⋅Q_d ⋅u      \n",
       "P(Q) = ───────────────────────────────────────────\n",
       "                           U_n                    "
      ]
     },
     "metadata": {},
     "output_type": "display_data"
    },
    {
     "data": {
      "image/png": "[encoded data removed]",
      "text/latex": [
       "$$P{\\left (Q \\right )} = \\frac{E_{p} Q_{d}}{U_{n}} u \\sqrt{1 - \\frac{U_{n}^{2} \\left(Q + Q_{d} u^{2}\\right)^{2}}{E_{p}^{2} Q_{d}^{2} u^{2}}}$$"
      ],
      "text/plain": [
       "                        ________________________\n",
       "                       ╱                      2 \n",
       "                      ╱         2 ⎛         2⎞  \n",
       "                     ╱       U_n ⋅⎝Q + Q_d⋅u ⎠  \n",
       "       E_p⋅Q_d⋅u⋅   ╱    1 - ────────────────── \n",
       "                   ╱               2    2  2    \n",
       "                 ╲╱             E_p ⋅Q_d ⋅u     \n",
       "P(Q) = ─────────────────────────────────────────\n",
       "                          U_n                   "
      ]
     },
     "metadata": {},
     "output_type": "display_data"
    },
    {
     "data": {
      "image/png": "[encoded data removed]",
      "text/latex": [
       "$$Q{\\left (P \\right )} = Q_{d} u \\left(- \\frac{E_{p}}{U_{n}} \\sqrt{1 - \\frac{P^{2} U_{n}^{2}}{E_{p}^{2} Q_{d}^{2} u^{2}}} - u\\right)$$"
      ],
      "text/plain": [
       "             ⎛            __________________    ⎞\n",
       "             ⎜           ╱        2    2        ⎟\n",
       "             ⎜          ╱        P ⋅U_n         ⎟\n",
       "             ⎜  E_p⋅   ╱   1 - ────────────     ⎟\n",
       "             ⎜        ╱           2    2  2     ⎟\n",
       "             ⎜      ╲╱         E_p ⋅Q_d ⋅u      ⎟\n",
       "Q(P) = Q_d⋅u⋅⎜- ──────────────────────────── - u⎟\n",
       "             ⎝              U_n                 ⎠"
      ]
     },
     "metadata": {},
     "output_type": "display_data"
    },
    {
     "data": {
      "image/png": "[encoded data removed]",
      "text/latex": [
       "$$Q{\\left (P \\right )} = Q_{d} u \\left(\\frac{E_{p}}{U_{n}} \\sqrt{1 - \\frac{P^{2} U_{n}^{2}}{E_{p}^{2} Q_{d}^{2} u^{2}}} - u\\right)$$"
      ],
      "text/plain": [
       "             ⎛          __________________    ⎞\n",
       "             ⎜         ╱        2    2        ⎟\n",
       "             ⎜        ╱        P ⋅U_n         ⎟\n",
       "             ⎜E_p⋅   ╱   1 - ────────────     ⎟\n",
       "             ⎜      ╱           2    2  2     ⎟\n",
       "             ⎜    ╲╱         E_p ⋅Q_d ⋅u      ⎟\n",
       "Q(P) = Q_d⋅u⋅⎜──────────────────────────── - u⎟\n",
       "             ⎝            U_n                 ⎠"
      ]
     },
     "metadata": {},
     "output_type": "display_data"
    }
   ],
   "source": [
    "eq2=sp.solve(eq1,dltSym) #Solve Q(dlt) for load angle delta\n",
    "eq3a=eq0.subs(dltSym,eq2[0]) #Insert first solution for dlt in P(dlt) \n",
    "eq3b=eq0.subs(dltSym,eq2[1]) #Insert second solution for dlt in P(dlt)\n",
    "display(sp.Eq(Psym(Qsym),eq3a+Psym))#Show 1. term for P(Q) with elimiminated delta\n",
    "display(sp.Eq(Psym(Qsym),eq3b+Psym))#Show 2. term for P(Q) with elimiminated delta\n",
    "\n",
    "eq4=sp.solve(eq0,dltSym) #Solve P(dlt) for load angle delta\n",
    "eq5a=eq1.subs(dltSym,eq4[0]) #Insert first solution for dlt in Q(dlt) \n",
    "eq5b=eq1.subs(dltSym,eq4[1]) #Insert second solution for dlt in Q(dlt)\n",
    "display(sp.Eq(Qsym(Psym),eq5a+Qsym))#Show 1. term for Q(P) with elimiminated delta\n",
    "display(sp.Eq(Qsym(Psym),eq5b+Qsym))#Shwo 2. term for Q(P) with elimiminated delta"
   ]
  },
  {
   "cell_type": "markdown",
   "metadata": {},
   "source": [
    "In <a name=\"ref-5\"/>[(Crastan)](#cite-Crastan), S. 274 f. werden für die Herleitung des Leistungsdiagramms die Eigenschaften ähnlicher Dreiecke benützt. Davon abweichend wurden an dieser Stelle analytischen Ausdrücken verwendet. "
   ]
  },
  {
   "cell_type": "markdown",
   "metadata": {},
   "source": [
    "## 4.3 Stabilitätsgrenze"
   ]
  },
  {
   "cell_type": "markdown",
   "metadata": {},
   "source": [
    "Entsprechend den angegeben Termen beschreibt Q(P) den Blindleistungsstellbereichs in Abhängigkeit von P. \n",
    "Aus Stabilitätsgründen wird der Blindleistungsstellbereichs jedoch weiter eingeschränkt. Der natürliche Stabilitätsbereich für den Polradwinkel liegt zwischen 0 und 90°. Bei Mitbetrachtung des Spannungsreglers kann der natürliche Stabilitätsbereich um einen künstlichen Stabilitätsbereich mit Polradwinkeln >90° erweitert werden. Dieser Fall wird hier jedoch nicht weiter verfolgt. Bei Annahme eines maximalen Polradwinkel von 90° folgt aus obigem Ausdruck für die Begrenzung der minimalen Blindleistung aus Stabilitätsgründen:\n",
    "\n",
    "$Q = Q_{d} u \\left(\\frac{E_{p}}{U_{n}} \\cos{\\left (\\delta \\right )} - u\\right)\n",
    "~~\\underrightarrow{\\delta=90°}~~ \n",
    "Q_{min}= -u^2Q_d$"
   ]
  },
  {
   "cell_type": "code",
   "execution_count": 8,
   "metadata": {
    "collapsed": true
   },
   "outputs": [],
   "source": [
    "QminMaxEqs =  sp.solve(eq3a+Psym,Qsym) #Solve P(Q)=0 resulting in two solutions for Qmin and Qmax\n",
    "Qmin2 =-u**2*Qd"
   ]
  },
  {
   "cell_type": "markdown",
   "metadata": {},
   "source": [
    "## 4.4 Zeichnen des Leistungsdiagramms"
   ]
  },
  {
   "cell_type": "markdown",
   "metadata": {},
   "source": [
    "Für das Zeichnen des Leistungsdiagramms ist es notwendig symbolische durch numerische Werte zu ersetzen."
   ]
  },
  {
   "cell_type": "code",
   "execution_count": 9,
   "metadata": {
    "collapsed": false
   },
   "outputs": [],
   "source": [
    "eq6a=eq3a.subs([(UnSym,Un),(QdSym,Qd),(EpSym,Ep),(UnSym,Un),(uSym,u)])\n",
    "eq6b=eq3b.subs([(UnSym,Un),(QdSym,Qd),(EpSym,Ep),(UnSym,Un),(uSym,u)])\n",
    "eq7a=eq5a.subs([(UnSym,Un),(QdSym,Qd),(EpSym,Ep),(UnSym,Un),(uSym,u)])\n",
    "eq7b=eq5b.subs([(UnSym,Un),(QdSym,Qd),(EpSym,Ep),(UnSym,Un),(uSym,u)])\n",
    "\n",
    "PaFun=sp.lambdify(Qsym,(eq6a+Psym),\"numpy\") #http://docs.sympy.org/dev/tutorial/basic_operations.html\n",
    "PbFun=sp.lambdify(Qsym,(eq6b+Psym),\"numpy\") \n",
    "QaFun=sp.lambdify(Psym,(eq7a+Qsym),\"numpy\") \n",
    "QbFun=sp.lambdify(Psym,(eq7b+Qsym),\"numpy\") \n",
    "\n",
    "Qmin =float( QminMaxEqs[0].subs([(UnSym,Un),(QdSym,Qd),(EpSym,Ep),(UnSym,Un),(uSym,u)]) )\n",
    "Qmax =float( QminMaxEqs[1].subs([(UnSym,Un),(QdSym,Qd),(EpSym,Ep),(UnSym,Un),(uSym,u)]) )"
   ]
  },
  {
   "cell_type": "markdown",
   "metadata": {},
   "source": [
    "Abschließend wird das Leistungsdiagramm in Anlehnung an <a name=\"ref-4\"/>[(Crastan)](#cite-Crastan), S. 275, Fig. 6.62 gezeichnet."
   ]
  },
  {
   "cell_type": "code",
   "execution_count": 12,
   "metadata": {
    "collapsed": false
   },
   "outputs": [
    {
     "data": {
      "image/png": "[encoded data removed]",
      "text/plain": [
       "<matplotlib.figure.Figure at 0x83c07f0>"
      ]
     },
     "metadata": {},
     "output_type": "display_data"
    }
   ],
   "source": [
    "from  matplotlib.patches import Arc \n",
    "#Angle plottig fumction based on contribution of vraghav93 http://stackoverflow.com/questions/25227100/best-way-to-plot-an-angle-between-two-lines-in-matplotlib\n",
    "def get_angle_plot(line1, line2, offset = 1, color = None, len_x_axis = 10, len_y_axis = 10):\n",
    "    l1xy = line1.get_xydata()\n",
    "    # Angle between line1 and x-axis\n",
    "    slope1 = (l1xy[1][1] - l1xy[0][1]) / float(l1xy[1][0] - l1xy[0][0])\n",
    "    angle1 = abs(np.degrees(np.arctan(slope1))) # Taking only the positive angle\n",
    "    l2xy = line2.get_xydata()\n",
    "    # Angle between line2 and x-axis\n",
    "    slope2 = (l2xy[1][1] - l2xy[0][1]) / float(l2xy[1][0] - l2xy[0][0])\n",
    "    angle2 = abs(np.degrees(np.arctan(slope2)))\n",
    "    theta1 = min(angle1, angle2)\n",
    "    theta2 = max(angle1, angle2)\n",
    "    angle = theta2 - theta1\n",
    "    if color is None:\n",
    "        color = line1.get_color() # Uses the color of line 1 if color parameter is not passed.\n",
    "    origin=l2xy[0]\n",
    "    return Arc(origin, len_x_axis*offset, len_y_axis*offset, 0, theta1, theta2, color=color, label = str(angle)+u\"\\u00b0\")\n",
    "\n",
    "def get_angle_text(angle_plot):\n",
    "   angle = angle_plot.get_label()[:-1] # Excluding the degree symbol\n",
    "   angle = \"%0.2f\"%float(angle)+u\"\\u00b0\" # Display angle upto 2 decimal places\n",
    "   # Get the vertices of the angle arc\n",
    "   vertices = angle_plot.get_verts()\n",
    "   # Get the midpoint of the arc extremes\n",
    "   x_width = (vertices[0][0] + vertices[-1][0]) / 2.0\n",
    "   y_width = (vertices[0][1] + vertices[-1][1]) / 2.0\n",
    "   #print x_width, y_width\n",
    "   separation_radius = max(x_width/2.0, y_width/2.0)\n",
    "\n",
    "   return [ x_width + separation_radius, y_width + separation_radius, angle] \n",
    "\n",
    "\n",
    "plt.figure(num=None, figsize=(10, 10), dpi=80, facecolor='none', edgecolor='k')\n",
    "plt.axis('equal')\n",
    "ax = plt.gca()\n",
    "\n",
    "Parr = np.linspace(-Sn,Sn,num=10000,endpoint=False)\n",
    "plt.plot(QmaxStatAFun(Parr),Parr,'r-',label='Thermische Grenze des Statorstroms bei Nennstrom')\n",
    "plt.plot(QmaxStatBFun(Parr),Parr,'r-')\n",
    "\n",
    "Qarr = np.linspace(Qmin,Qmax,num=100000,endpoint=False) #http://scicomp.stackexchange.com/questions/13021/python-package-for-adaptive-function-plotting\n",
    "plt.plot(Qarr,PaFun(Qarr),'b-',label='Thermische Grenze des Rotorstroms bei Nennpolradspannung')\n",
    "plt.plot(Qarr,PbFun(Qarr),'b-')\n",
    "\n",
    "Pn=abs(Sn*cosPhiN) #Move\n",
    "plt.plot(ax.get_xlim(),(-Pn,-Pn),'r--',label='Nennwirkleistungsgrenzen')\n",
    "plt.plot(ax.get_xlim(),(Pn,Pn),'r--')\n",
    "\n",
    "plt.plot((Qmin2,Qmin2),ax.get_ylim(),'r-.',label='Stabilitätsgrenze')\n",
    "\n",
    "OpPmaxQmin=(Qmin2,Pn)\n",
    "OpPminQmin=(Qmin2,-Pn)\n",
    "OpPmaxQmax=(QbFun(Pn),Pn)\n",
    "OpPminQmax=(QbFun(-Pn),-Pn)\n",
    "\n",
    "plt.plot(#OpPmaxQmin[0],OpPmaxQmin[1],'ro',\n",
    "         #OpPminQmin[0],OpPminQmin[1],'ro',\n",
    "         OpPmaxQmax[0],OpPmaxQmax[1],'ro', \n",
    "         OpPminQmax[0],OpPminQmax[1],'ro',\n",
    "         0,0,'bo', Qmin2,0,'bo')\n",
    "\n",
    "plt.text(OpPmaxQmax[0]+1,OpPmaxQmax[1]+1,'AP 1')\n",
    "plt.text(OpPminQmax[0]+1,OpPminQmax[1]-2,'AP 2')\n",
    "\n",
    "plt.annotate( '', xy=(-30, 1), xycoords='data',xytext=(-30, Pn),textcoords='data', arrowprops={'arrowstyle': '<-'})\n",
    "plt.annotate( 'Generator', xy=(-30-5, 1), xycoords='data',xytext=(-30-5, Pn), textcoords='offset points')\n",
    "             \n",
    "plt.annotate( '', xy=(-30, -1), xycoords='data',xytext=(-30, -Pn),textcoords='data', arrowprops={'arrowstyle': '<-'})\n",
    "plt.annotate( 'Motor', xy=(-30-5, -1), xycoords='data',xytext=(-30-5, -Pn), textcoords='offset points')\n",
    "             \n",
    "plt.annotate( '', xy=(-1,-12), xycoords='data',xytext=(Qmin2,-12),textcoords='data', arrowprops={'arrowstyle': '<-'})\n",
    "plt.annotate( 'untererregt', xy=(-10, -12), xycoords='data',xytext=(Qmin2,-12), textcoords='offset points')\n",
    "\n",
    "plt.annotate( '', xy=(1,-12), xycoords='data',xytext=(QbFun(-12),-12),textcoords='data', arrowprops={'arrowstyle': '<-'})\n",
    "plt.annotate( 'übererregt', xy=(1,-12-1.5), xycoords='data',xytext=(QbFun(-12),-1), textcoords='offset points')\n",
    "\n",
    "plt.legend()\n",
    "\n",
    "line1 =plt.Line2D([Qmin2,OpPmaxQmax[0]],[0,OpPmaxQmax[1]], linewidth=1, linestyle = \"-\", color=\"blue\")\n",
    "line2 =plt.Line2D([OpPmaxQmax[0],0],[OpPmaxQmax[1],0], linewidth=1, linestyle = \"-\", color=\"blue\")\n",
    "line3 =plt.Line2D([Qmin2,OpPminQmax[0]],[0,OpPminQmax[1]], linewidth=1, linestyle = \"-\", color=\"blue\")\n",
    "line4 =plt.Line2D([0,OpPminQmax[0]],[0,OpPminQmax[1]], linewidth=1, linestyle = \"-\", color=\"blue\")\n",
    "\n",
    "ax.add_line(line1)\n",
    "ax.add_line(line2)\n",
    "ax.add_line(line3)\n",
    "ax.add_line(line4)\n",
    "\n",
    "line5 =plt.Line2D([Qmin2,8],[0,0], linewidth=1, linestyle = \"-\", color='red')#Invisble help line for angle plotting\n",
    "angle_plot = get_angle_plot(line1,line5)\n",
    "angle_text = get_angle_text(angle_plot) # Gets the arguments to be passed to ax.text as a list to display the angle value besides the arc\n",
    "ax.add_patch(angle_plot) # To display the angle arc\n",
    "ax.text(angle_text[0],angle_text[1],r\"$\\delta$=\"+ angle_text[2]) # To display the angle value\n",
    "\n",
    "line6 =plt.Line2D([OpPmaxQmax[0],OpPmaxQmax[0]],[OpPmaxQmax[1],0], linewidth=1, linestyle = \":\", color='black')#Visible help line for angle plotting\n",
    "ax.add_line(line6)\n",
    "angle_plot = get_angle_plot(line2,line6,offset =-1)\n",
    "angle_text = get_angle_text(angle_plot) # Gets the arguments to be passed to ax.text as a list to display the angle value besides the arc\n",
    "ax.add_patch(angle_plot) # To display the angle arc\n",
    "ax.text(angle_text[0],angle_text[1],r\"$\\varphi$=\"+ angle_text[2]) # To display the angle value\n",
    "\n",
    "ax.set_xlabel('Blindleistung Q [Mvar]')\n",
    "ax.set_ylabel('Wirkleistung P [MW] ')\n",
    "plt.grid()  \n",
    "font = {'weight' : 'normal','size':12}\n",
    "plt.rc('font', **font) #Change the font size for all plot elements #http://stackoverflow.com/questions/3899980/how-to-change-the-font-size-on-a-matplotlib-plot\n",
    "plt.show()"
   ]
  },
  {
   "cell_type": "markdown",
   "metadata": {},
   "source": [
    "## 4.5 Koordinaten der Arbeitspunkte (AP)"
   ]
  },
  {
   "cell_type": "markdown",
   "metadata": {},
   "source": [
    "Noch nicht fertig."
   ]
  },
  {
   "cell_type": "code",
   "execution_count": 11,
   "metadata": {
    "collapsed": false
   },
   "outputs": [],
   "source": [
    "import pandas as pd\n",
    "df = pd.DataFrame({\"AP 1\":[1,2,3], \"AP 2\":[6,4,3], \"z\":[\"testing\",\"pretty\",\"tables\"], \"f\":[0.023432, 0.234321,0.5555]})\n",
    "#df"
   ]
  },
  {
   "cell_type": "markdown",
   "metadata": {},
   "source": [
    "# 5. Zusammenfassung"
   ]
  },
  {
   "cell_type": "markdown",
   "metadata": {
    "collapsed": true
   },
   "source": [
    "\n",
    "Die Vorteile des hier vorgestellten Ansatzes liegen zum einen darin dass bereits aus wenigen Datenblattwerten  zertifizierungsrelevante Aussagen getroffen werden können und zum anderen in der Anpassbarkeit sowie Quelloffenheit der Rechenschritte. Es wäre vorstellbar entsprechende Zertifizierungsschritte mit den hier getätigten Aussagen zu ergänzen. "
   ]
  },
  {
   "cell_type": "markdown",
   "metadata": {},
   "source": [
    "# References\n",
    "\n",
    "<a name=\"cite-Rosa2013\"/><sup>[^](#ref-1) </sup>Rosa, Andreas. 2013. _Projektierung von Ersatzstromaggregaten_. [URL](http://www.amazon.de/Projektierung-von-Ersatzstromaggregaten-Stromerzeugungsaggregaten-VDE-Schriftenreihe/dp/3800735288)\n",
    "\n",
    "<a name=\"cite-Crastan\"/><sup>[^](#ref-2) [^](#ref-3) </sup>Crastan, Valentin. 2012. _Elektrische Energieversorgung 1: Netzelemente, Modellierung, station\\\"{ares Verhalten, Bemessung, Schalt- und Schutztechnik_. [URL](http://www.amazon.de/gp/product/3642223451/ref=pd\\_lpo\\_sbs\\_dp\\_ss\\_2?pf\\_rd\\_p=556245207\\&pf\\_rd\\_s=lpo-top-stripe\\&pf\\_rd\\_t=201\\&pf\\_rd\\_i=3540694390\\&pf\\_rd\\_m=A3JWKAKR8XB7XF\\&pf\\_rd\\_r=07AVYT6MPQ5MC8PPZNWB)\n",
    "\n",
    "\n"
   ]
  }
 ],
 "metadata": {
  "css": [
   ""
  ],
  "kernelspec": {
   "display_name": "Python 3",
   "language": "python",
   "name": "python3"
  },
  "language_info": {
   "codemirror_mode": {
    "name": "ipython",
    "version": 3
   },
   "file_extension": ".py",
   "mimetype": "text/x-python",
   "name": "python",
   "nbconvert_exporter": "python",
   "pygments_lexer": "ipython3",
   "version": "3.5.0"
  }
 },
 "nbformat": 4,
 "nbformat_minor": 0
}
