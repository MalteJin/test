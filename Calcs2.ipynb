{
 "cells": [
  {
   "cell_type": "markdown",
   "metadata": {
    "toc": "true"
   },
   "source": [
    "Init:"
   ]
  },
  {
   "cell_type": "code",
   "execution_count": 1,
   "metadata": {
    "collapsed": false
   },
   "outputs": [
    {
     "name": "stdout",
     "output_type": "stream",
     "text": [
      "Init done: Fri Feb 19 14:38:17 2016\n"
     ]
    }
   ],
   "source": [
    "import numpy as np\n",
    "from numpy import pi,sqrt,sin,cos,tan,arcsin,arccos,arctan\n",
    "from numpy import real as re\n",
    "from numpy import imag as im\n",
    "from numpy import conj as conj\n",
    "from numpy import exp  as exp\n",
    "\n",
    "import sympy as sp\n",
    "from sympy import limit, Symbol, oo\n",
    "\n",
    "import matplotlib.pyplot as plt\n",
    "\n",
    "from IPython.display import display,Math,HTML,Latex # Used to display widgets in the notebook\n",
    "sp.init_printing(use_unicode=True,use_latex=True)\n",
    "\n",
    "import ipywidgets as widgets #If not install run <pip install ipywidgets> in DOS command prompt (Anaconda distribution)\n",
    "\n",
    "import time\n",
    "\n",
    "print('Init done:', time.ctime() )\n",
    "\n",
    "%matplotlib inline \n",
    "#%connect_info"
   ]
  },
  {
   "cell_type": "markdown",
   "metadata": {},
   "source": [
    "Original Kundur formulas"
   ]
  },
  {
   "cell_type": "code",
   "execution_count": 2,
   "metadata": {
    "collapsed": false
   },
   "outputs": [
    {
     "data": {
      "text/latex": [
       "$$ P_r= \\frac{E_{s}^{2} Z_{{r}}}{F Z_{{s}}^{2}} \\cos{\\left (\\varphi \\right )}$$"
      ],
      "text/plain": [
       "<IPython.core.display.Math object>"
      ]
     },
     "metadata": {},
     "output_type": "display_data"
    },
    {
     "data": {
      "text/latex": [
       "$$ I= \\frac{E_{s}}{\\sqrt{F} Z_{{s}}}$$"
      ],
      "text/plain": [
       "<IPython.core.display.Math object>"
      ]
     },
     "metadata": {},
     "output_type": "display_data"
    },
    {
     "data": {
      "text/latex": [
       "$$ U_r= \\frac{E_{s} Z_{{r}}}{\\sqrt{F} Z_{{s}}}$$"
      ],
      "text/plain": [
       "<IPython.core.display.Math object>"
      ]
     },
     "metadata": {},
     "output_type": "display_data"
    },
    {
     "data": {
      "text/latex": [
       "$$ F= \\frac{Z_{{r}}^{2}}{Z_{{s}}^{2}} + \\frac{2 Z_{{r}}}{Z_{{s}}} \\cos{\\left (\\theta - \\varphi \\right )} + 1$$"
      ],
      "text/plain": [
       "<IPython.core.display.Math object>"
      ]
     },
     "metadata": {},
     "output_type": "display_data"
    },
    {
     "data": {
      "text/latex": [
       "$$ \\theta =\\angle \\underline{Z}_{s} $$"
      ],
      "text/plain": [
       "<IPython.core.display.Math object>"
      ]
     },
     "metadata": {},
     "output_type": "display_data"
    },
    {
     "data": {
      "text/latex": [
       "$$ \\phi   =\\angle \\underline{Z}_{r} $$"
      ],
      "text/plain": [
       "<IPython.core.display.Math object>"
      ]
     },
     "metadata": {},
     "output_type": "display_data"
    }
   ],
   "source": [
    "#Symbolic variablde definitions http://docs.sympy.org/dev/modules/core.html\n",
    "EsSym,ZlnSym,ZldTsym,VrSym,ZsSym,ZrSym,Fsym=sp.symbols( r\"E_s,Z_{ln},Z_{ldT},V_r,Z_{s},Z_{r},F\",positive=True)\n",
    "thetaSym,phiSym=sp.symbols( r\"\\theta,\\varphi\",real=True)\n",
    "ZsrRatioSym=sp.symbols( r\"Z_{srRt}\",positive=True)\n",
    "\n",
    "PrEq =ZrSym/Fsym *(EsSym/ZsSym)**2*sp.cos(phiSym)\n",
    "Ieq  =1/sp.sqrt(Fsym) * EsSym/ZsSym\n",
    "UrEq =1/sp.sqrt(Fsym) * ZrSym/ZsSym *EsSym\n",
    "Feq =1+(ZrSym/ZsSym)**2 +2*(ZrSym/ZsSym)*sp.cos(thetaSym-phiSym)\n",
    "\n",
    "display(Math(r' P_r= %s' %sp.latex(PrEq)  ))\n",
    "display(Math(r' I= %s' %sp.latex(Ieq)  ))\n",
    "display(Math(r' U_r= %s' %sp.latex(UrEq)  ))\n",
    "display(Math(r' F= %s' %sp.latex(Feq)  ))\n",
    "display(Math(r' \\theta =\\angle \\underline{Z}_{s} ' ))\n",
    "display(Math(r' \\phi   =\\angle \\underline{Z}_{r} ' ))\n"
   ]
  },
  {
   "cell_type": "markdown",
   "metadata": {},
   "source": [
    "Insertion of F"
   ]
  },
  {
   "cell_type": "code",
   "execution_count": 3,
   "metadata": {
    "collapsed": false
   },
   "outputs": [
    {
     "data": {
      "text/latex": [
       "$$ P_r= \\frac{E_{s}^{2} \\cos{\\left (\\varphi \\right )}}{Z_{{srRt}} Z_{{s}} \\left(1 + \\frac{2}{Z_{{srRt}}} \\cos{\\left (\\theta - \\varphi \\right )} + \\frac{1}{Z_{{srRt}}^{2}}\\right)}$$"
      ],
      "text/plain": [
       "<IPython.core.display.Math object>"
      ]
     },
     "metadata": {},
     "output_type": "display_data"
    },
    {
     "data": {
      "text/latex": [
       "$$ I= \\frac{E_{s}}{Z_{{s}} \\sqrt{1 + \\frac{2}{Z_{{srRt}}} \\cos{\\left (\\theta - \\varphi \\right )} + \\frac{1}{Z_{{srRt}}^{2}}}}$$"
      ],
      "text/plain": [
       "<IPython.core.display.Math object>"
      ]
     },
     "metadata": {},
     "output_type": "display_data"
    },
    {
     "data": {
      "text/latex": [
       "$$ U= \\frac{E_{s}}{Z_{{srRt}} \\sqrt{1 + \\frac{2}{Z_{{srRt}}} \\cos{\\left (\\theta - \\varphi \\right )} + \\frac{1}{Z_{{srRt}}^{2}}}}$$"
      ],
      "text/plain": [
       "<IPython.core.display.Math object>"
      ]
     },
     "metadata": {},
     "output_type": "display_data"
    },
    {
     "data": {
      "text/latex": [
       "$$Z_{rt,cr}= \\left(\\frac{Z_s}{Z_r}\\right)_{cr} = 1$$"
      ],
      "text/plain": [
       "<IPython.core.display.Math object>"
      ]
     },
     "metadata": {},
     "output_type": "display_data"
    },
    {
     "data": {
      "text/latex": [
       "$$ P_{r,cr}= \\frac{E_{s}^{2} \\cos{\\left (\\varphi \\right )}}{Z_{{s}} \\left(2 \\cos{\\left (\\theta - \\varphi \\right )} + 2\\right)}$$"
      ],
      "text/plain": [
       "<IPython.core.display.Math object>"
      ]
     },
     "metadata": {},
     "output_type": "display_data"
    },
    {
     "data": {
      "text/latex": [
       "$$ P_{r,cr,max}= \\frac{0.5 E_{s}^{2}}{Z_{{s}}}$$"
      ],
      "text/plain": [
       "<IPython.core.display.Math object>"
      ]
     },
     "metadata": {},
     "output_type": "display_data"
    },
    {
     "data": {
      "text/latex": [
       "$$ I_{max}= \\frac{E_{s}}{Z_{{s}}}$$"
      ],
      "text/plain": [
       "<IPython.core.display.Math object>"
      ]
     },
     "metadata": {},
     "output_type": "display_data"
    }
   ],
   "source": [
    "\n",
    "PrEq   = PrEq.subs(Fsym,Feq)\n",
    "Ieq    =  Ieq.subs(Fsym,Feq)\n",
    "UrEq   = UrEq.subs(Fsym,Feq)\n",
    "\n",
    "PrEq   = PrEq.subs(ZrSym/ZsSym,1/ZsrRatioSym)\n",
    "Ieq    =  Ieq.subs(ZrSym/ZsSym,1/ZsrRatioSym)\n",
    "UrEq   = UrEq.subs(ZrSym/ZsSym,1/ZsrRatioSym)\n",
    "\n",
    "\n",
    "PrDiffEq = sp.diff(PrEq,ZsrRatioSym)\n",
    "sol =sp.solve(PrDiffEq,ZsrRatioSym)[0] #One solution (ZsrRatioSym=1)\n",
    "\n",
    "PrCrEq     = PrEq.subs(ZsrRatioSym,sol)\n",
    "PrCrMaxEq = PrCrEq.subs([(phiSym,0),(thetaSym,pi/2)])\n",
    "#Nominator max: cos(phi)=1 -> phi =0° \n",
    "#Denominater min: cos(theta-phi)=0 -> theta=90°+phi=90°\n",
    "\n",
    "ImaxEq = limit(Ieq, ZsrRatioSym,oo )\n",
    "\n",
    "display(Math(r' P_r= %s' %sp.latex(PrEq)  ))\n",
    "display(Math(r' I= %s' %sp.latex(Ieq)  ))\n",
    "display(Math(r' U= %s' %sp.latex(UrEq)  ))\n",
    "display(Math(r'Z_{rt,cr}= \\left(\\frac{Z_s}{Z_r}\\right)_{cr} = %s' %sp.latex(sol)  ))\n",
    "display(Math(r' P_{r,cr}= %s' %sp.latex(PrCrEq)  ))\n",
    "display(Math(r' P_{r,cr,max}= %s' %sp.latex(PrCrMaxEq)  ))\n",
    "display(Math(r' I_{max}= %s' %sp.latex(ImaxEq)  ))\n"
   ]
  },
  {
   "cell_type": "markdown",
   "metadata": {},
   "source": [
    "Insertion of numbers:"
   ]
  },
  {
   "cell_type": "code",
   "execution_count": 4,
   "metadata": {
    "collapsed": false
   },
   "outputs": [
    {
     "data": {
      "text/latex": [
       "$$ \\underline{Z}_{gr}   = 0.0000+121.0000j$$"
      ],
      "text/plain": [
       "<IPython.core.display.Math object>"
      ]
     },
     "metadata": {},
     "output_type": "display_data"
    },
    {
     "data": {
      "text/latex": [
       "$$ \\underline{Z}_{ln}  = 20.0000+40.0000j$$"
      ],
      "text/plain": [
       "<IPython.core.display.Math object>"
      ]
     },
     "metadata": {},
     "output_type": "display_data"
    },
    {
     "data": {
      "text/latex": [
       "$$ \\underline{Z}_{tf,HV}= 1.4213+49.1683j$$"
      ],
      "text/plain": [
       "<IPython.core.display.Math object>"
      ]
     },
     "metadata": {},
     "output_type": "display_data"
    },
    {
     "data": {
      "text/latex": [
       "$$ \\underline{Z}_{s}= 21.4213+210.1683j$$"
      ],
      "text/plain": [
       "<IPython.core.display.Math object>"
      ]
     },
     "metadata": {},
     "output_type": "display_data"
    },
    {
     "data": {
      "text/latex": [
       "$$ I_{max,Hv}= 0.3006 kA$$"
      ],
      "text/plain": [
       "<IPython.core.display.Math object>"
      ]
     },
     "metadata": {},
     "output_type": "display_data"
    },
    {
     "data": {
      "text/latex": [
       "$$ I_{max,Lv}= 1.6534 kA$$"
      ],
      "text/plain": [
       "<IPython.core.display.Math object>"
      ]
     },
     "metadata": {},
     "output_type": "display_data"
    },
    {
     "data": {
      "text/latex": [
       "$$ P_{cr}= 26.0016 MW$$"
      ],
      "text/plain": [
       "<IPython.core.display.Math object>"
      ]
     },
     "metadata": {},
     "output_type": "display_data"
    },
    {
     "data": {
      "text/latex": [
       "$$ P_{cr,max}= 28.6381 MW$$"
      ],
      "text/plain": [
       "<IPython.core.display.Math object>"
      ]
     },
     "metadata": {},
     "output_type": "display_data"
    }
   ],
   "source": [
    "##### #Data:\n",
    "SnTf = 31.5  #Nominal trafo power [MVA]\n",
    "UnTfHv = 110 #Nominal trafo high voltage[kv]                       \n",
    "UnTfLv = 20  #Nominal trafo low voltage (medium voltage) [kv]\n",
    "ukx   = 12.8 /100 # [%]\n",
    "ukr   = 0.37 /100 # [%]\n",
    "Skss = 100 #Short circuit power at high voltage level [MVA]\n",
    "\n",
    "#Grid:\n",
    "Ugr =110 #[kV]\n",
    "Xgr= Ugr**2/Skss\n",
    "Rgr=0\n",
    "ZgrCpx= Rgr +1j* Xgr\n",
    "\n",
    "#Line(s):\n",
    "ZlnCpx = (0.2+1j*0.4) * 100 #[Ohm] \n",
    "#ZlnCpx=ZlnCpx/2 #Two lines in operation\n",
    "#ZlnCpx = 1j*20\n",
    "\n",
    "#Trafo:\n",
    "Xtf= ukx * UnTfHv**2/SnTf #Transformer impedance on high voltage level\n",
    "Rtf= ukr * UnTfHv**2/SnTf #Transformer resistance on high voltage level\n",
    "ZtfCpx =Rtf+1j*Xtf\n",
    "a =UnTfHv/UnTfLv\n",
    "\n",
    "#Load:\n",
    "#cosPhi=0.95\n",
    "#Pld= 1 #[MW]\n",
    "#SldCpx = Pld /cosPhi * exp(1j*arccos(cosPhi))  #[MVA]\n",
    "#SldCpx=1+1j*0.5\n",
    "#UnLvCpx =UnLv\n",
    "#ZldCpx =conj( abs(UnLvCpx)**2/SldCpx )  \n",
    "ZldCpx=324\n",
    "Rld =re(ZldCpx)\n",
    "Xld=0\n",
    "RldT = Rld * a**2\n",
    "XldT = Xld * a**2\n",
    "ZldTcpx =RldT +1j*XldT\n",
    "\n",
    "#Calculate sending and receiving impedances Xs and Xr:\n",
    "ZsCpx  = ZgrCpx + ZlnCpx + ZtfCpx \n",
    "Zs= abs(ZsCpx)\n",
    "Rs =re(ZsCpx)\n",
    "Rs =im(ZsCpx)\n",
    "theta=np.angle(ZsCpx)\n",
    "\n",
    "ZrCpx  = ZldTcpx \n",
    "Zr= abs(ZrCpx)\n",
    "Rs =re(ZrCpx)\n",
    "Rs =im(ZrCpx)\n",
    "phi=np.angle(ZrCpx)\n",
    "\n",
    "#Critical I and P calculation:\n",
    "Imax    =float(ImaxEq.subs([(EsSym,Ugr/sqrt(3)),(ZsSym,Zs)]))\n",
    "PrCr    =float(PrCrEq.subs([(EsSym,Ugr),(ZsSym,Zs),(thetaSym,theta),(phiSym,phi)]) )\n",
    "PrCrMax =float(PrCrMaxEq.subs([(EsSym,Ugr),(ZsSym,Zs)]) )\n",
    "\n",
    "#Display:\n",
    "display(Math(r' \\underline{Z}_{gr}   = %s' %sp.latex(\"%.4f+%.4fj\" %(re(ZgrCpx),im(ZgrCpx))) ))\n",
    "display(Math(r' \\underline{Z}_{ln}  = %s' %sp.latex(\"%.4f+%.4fj\" %(re(ZlnCpx),im(ZlnCpx))) ))\n",
    "display(Math(r' \\underline{Z}_{tf,HV}= %s' %sp.latex(\"%.4f+%.4fj\" %(re(ZtfCpx),im(ZtfCpx))) )) #round on 4. digit?\n",
    "display(Math(r' \\underline{Z}_{s}= %s' %sp.latex(\"%.4f+%.4fj\" %(re(ZsCpx),im(ZsCpx))) ))\n",
    "#display(Math(r' \\underline{Z}_{ld}= %s'    %sp.latex(\"%.4f+%.4fj\" %(re(ZldCpx),im(ZldCpx))) ))\n",
    "#display(Math(r' \\underline{Z}_{ldT}= %s'   %sp.latex(\"%.4f+%.4fj\" %(re(ZldTcpx),im(ZldTcpx))) ))\n",
    "display(Math(r' I_{max,Hv}= %s kA' %sp.latex(\"%.4f\" %Imax)  ))\n",
    "display(Math(r' I_{max,Lv}= %s kA' %sp.latex(\"%.4f\" %(Imax*a))  ))\n",
    "display(Math(r' P_{cr}= %s MW' %sp.latex(\"%.4f\" % PrCr)  ))\n",
    "display(Math(r' P_{cr,max}= %s MW' %sp.latex(\"%.4f\" % PrCrMax)  ))"
   ]
  }
 ],
 "metadata": {
  "hide_input": false,
  "kernelspec": {
   "display_name": "Python 3",
   "language": "python",
   "name": "python3"
  },
  "language_info": {
   "codemirror_mode": {
    "name": "ipython",
    "version": 3
   },
   "file_extension": ".py",
   "mimetype": "text/x-python",
   "name": "python",
   "nbconvert_exporter": "python",
   "pygments_lexer": "ipython3",
   "version": "3.5.1"
  },
  "toc": {
   "toc_cell": true,
   "toc_number_sections": true,
   "toc_threshold": 4,
   "toc_window_display": false
  }
 },
 "nbformat": 4,
 "nbformat_minor": 0
}
